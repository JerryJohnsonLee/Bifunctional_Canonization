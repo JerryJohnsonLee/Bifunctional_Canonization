{
 "cells": [
  {
   "cell_type": "code",
   "execution_count": 23,
   "metadata": {},
   "outputs": [],
   "source": [
    "import pandas as pd\n",
    "from rdkit import Chem\n",
    "from rdkit.Chem import Draw\n",
    "\n",
    "import sys\n",
    "sys.path.append(\"../\")\n",
    "from Canonize import canonize\n",
    "import numpy as np\n",
    "\n",
    "import os\n",
    "df=pd.read_csv(\"ci8b00324_si_002.csv\")\n",
    "\n",
    "stereochemical_tags = ['/', 's', 'r', 'S', 'R', 'E', 'Z', ':', '?']\n"
   ]
  },
  {
   "cell_type": "code",
   "execution_count": 18,
   "metadata": {},
   "outputs": [
    {
     "data": {
      "text/html": [
       "<div>\n",
       "<style scoped>\n",
       "    .dataframe tbody tr th:only-of-type {\n",
       "        vertical-align: middle;\n",
       "    }\n",
       "\n",
       "    .dataframe tbody tr th {\n",
       "        vertical-align: top;\n",
       "    }\n",
       "\n",
       "    .dataframe thead th {\n",
       "        text-align: right;\n",
       "    }\n",
       "</style>\n",
       "<table border=\"1\" class=\"dataframe\">\n",
       "  <thead>\n",
       "    <tr style=\"text-align: right;\">\n",
       "      <th></th>\n",
       "      <th>COMPOUND</th>\n",
       "      <th>SMILES</th>\n",
       "      <th>CIP Labels</th>\n",
       "      <th>Blue Book Ref</th>\n",
       "      <th>Stereogenic Units</th>\n",
       "      <th>Sequence Rules</th>\n",
       "      <th>Figure</th>\n",
       "      <th>Different from CIP Labels</th>\n",
       "      <th>Rdkit + Canonize.py</th>\n",
       "      <th>balloon + Canonize.py</th>\n",
       "      <th>Unnamed: 10</th>\n",
       "    </tr>\n",
       "  </thead>\n",
       "  <tbody>\n",
       "    <tr>\n",
       "      <th>0</th>\n",
       "      <td>VS001</td>\n",
       "      <td>C1[C@]2(CCCC1)CC=CC2</td>\n",
       "      <td>NaN</td>\n",
       "      <td>P-93.5.3.3</td>\n",
       "      <td>TH</td>\n",
       "      <td>NaN</td>\n",
       "      <td>NaN</td>\n",
       "      <td>0</td>\n",
       "      <td>8Z 9Z</td>\n",
       "      <td>8Z 9Z</td>\n",
       "      <td>1</td>\n",
       "    </tr>\n",
       "    <tr>\n",
       "      <th>1</th>\n",
       "      <td>VS002</td>\n",
       "      <td>C1=CCC=CC=C1</td>\n",
       "      <td>NaN</td>\n",
       "      <td>P-93.5.1.4.1</td>\n",
       "      <td>NaN</td>\n",
       "      <td>NaN</td>\n",
       "      <td>NaN</td>\n",
       "      <td>0</td>\n",
       "      <td>1Z 2Z 4Z 5Z 6Z 7Z</td>\n",
       "      <td>1Z 2Z 4Z 5Z 6Z 7Z</td>\n",
       "      <td>1</td>\n",
       "    </tr>\n",
       "    <tr>\n",
       "      <th>2</th>\n",
       "      <td>VS003</td>\n",
       "      <td>C[S@@](=O)C</td>\n",
       "      <td>NaN</td>\n",
       "      <td>P-93.3.3.2</td>\n",
       "      <td>TH</td>\n",
       "      <td>NaN</td>\n",
       "      <td>NaN</td>\n",
       "      <td>1</td>\n",
       "      <td>NaN</td>\n",
       "      <td>NaN</td>\n",
       "      <td>1</td>\n",
       "    </tr>\n",
       "    <tr>\n",
       "      <th>3</th>\n",
       "      <td>VS004</td>\n",
       "      <td>C1=CC=C2C(=C1)CCC=C2</td>\n",
       "      <td>NaN</td>\n",
       "      <td>P-93.5.4.1</td>\n",
       "      <td>NaN</td>\n",
       "      <td>NaN</td>\n",
       "      <td>NaN</td>\n",
       "      <td>0</td>\n",
       "      <td>9Z 10Z</td>\n",
       "      <td>9Z 10Z</td>\n",
       "      <td>1</td>\n",
       "    </tr>\n",
       "    <tr>\n",
       "      <th>4</th>\n",
       "      <td>VS005</td>\n",
       "      <td>OC=1C=CC=CC1[C@H](C2=CC=CC=C2O)O</td>\n",
       "      <td>NaN</td>\n",
       "      <td>NaN</td>\n",
       "      <td>TH</td>\n",
       "      <td>NaN</td>\n",
       "      <td>Figure 5</td>\n",
       "      <td>1</td>\n",
       "      <td>NaN</td>\n",
       "      <td>NaN</td>\n",
       "      <td>1</td>\n",
       "    </tr>\n",
       "  </tbody>\n",
       "</table>\n",
       "</div>"
      ],
      "text/plain": [
       "  COMPOUND                            SMILES CIP Labels Blue Book Ref  \\\n",
       "0    VS001              C1[C@]2(CCCC1)CC=CC2        NaN    P-93.5.3.3   \n",
       "1    VS002                      C1=CCC=CC=C1        NaN  P-93.5.1.4.1   \n",
       "2    VS003                       C[S@@](=O)C        NaN    P-93.3.3.2   \n",
       "3    VS004              C1=CC=C2C(=C1)CCC=C2        NaN    P-93.5.4.1   \n",
       "4    VS005  OC=1C=CC=CC1[C@H](C2=CC=CC=C2O)O        NaN           NaN   \n",
       "\n",
       "  Stereogenic Units Sequence Rules    Figure  Different from CIP Labels  \\\n",
       "0                TH            NaN       NaN                          0   \n",
       "1               NaN            NaN       NaN                          0   \n",
       "2                TH            NaN       NaN                          1   \n",
       "3               NaN            NaN       NaN                          0   \n",
       "4                TH            NaN  Figure 5                          1   \n",
       "\n",
       "  Rdkit + Canonize.py balloon + Canonize.py  Unnamed: 10  \n",
       "0               8Z 9Z                 8Z 9Z            1  \n",
       "1   1Z 2Z 4Z 5Z 6Z 7Z     1Z 2Z 4Z 5Z 6Z 7Z            1  \n",
       "2                 NaN                   NaN            1  \n",
       "3              9Z 10Z                9Z 10Z            1  \n",
       "4                 NaN                   NaN            1  "
      ]
     },
     "execution_count": 18,
     "metadata": {},
     "output_type": "execute_result"
    }
   ],
   "source": [
    "df.head()"
   ]
  },
  {
   "cell_type": "code",
   "execution_count": 24,
   "metadata": {},
   "outputs": [],
   "source": [
    "def get_stereo_str(filename):\n",
    "    results = canonize(filename)\n",
    "    return_str = \"\"\n",
    "    for item in results:\n",
    "        tag = stereochemical_tags[item['item'].stereochemistry]\n",
    "        if tag != \"/\":\n",
    "            return_str += str(item[\"original\"] + 1) + tag + \" \"\n",
    "    return return_str.strip()"
   ]
  },
  {
   "cell_type": "code",
   "execution_count": 25,
   "metadata": {},
   "outputs": [
    {
     "data": {
      "text/plain": [
       "'3R'"
      ]
     },
     "execution_count": 25,
     "metadata": {},
     "output_type": "execute_result"
    }
   ],
   "source": [
    "get_stereo_str(\"balloon/VS031.sdf\")"
   ]
  },
  {
   "attachments": {},
   "cell_type": "markdown",
   "metadata": {},
   "source": [
    "# Assign tags from rdkit and balloon structures"
   ]
  },
  {
   "cell_type": "code",
   "execution_count": 26,
   "metadata": {},
   "outputs": [],
   "source": [
    "rdkit_stereo_strs = []\n",
    "balloon_stereo_strs = []\n",
    "for i in range(len(df)):\n",
    "    smi=df.iloc[i].SMILES\n",
    "    compound=df.iloc[i].COMPOUND\n",
    "    rdkit_stereo_strs.append(get_stereo_str(f\"RDkit/{compound}.sdf\"))\n",
    "    if os.path.exists(f\"balloon/{compound}_bad.sdf\"):\n",
    "        balloon_stereo_strs.append(\"X\")\n",
    "    else:\n",
    "        balloon_stereo_strs.append(get_stereo_str(f\"balloon/{compound}.sdf\"))"
   ]
  },
  {
   "cell_type": "code",
   "execution_count": 27,
   "metadata": {},
   "outputs": [],
   "source": [
    "df[\"RDKit\"]=rdkit_stereo_strs\n",
    "df[\"Balloon\"]=balloon_stereo_strs"
   ]
  },
  {
   "cell_type": "code",
   "execution_count": null,
   "metadata": {},
   "outputs": [
    {
     "data": {
      "text/plain": [
       "0                 NaN\n",
       "1                 NaN\n",
       "2                 NaN\n",
       "3                 NaN\n",
       "4                 NaN\n",
       "            ...      \n",
       "295         2S 9S 14S\n",
       "296         2R 5S 13S\n",
       "297          2R 4S 7R\n",
       "298    2z 3z 5S 7z 9z\n",
       "299         2s 4R 18S\n",
       "Name: CIP Labels, Length: 300, dtype: object"
      ]
     },
     "metadata": {},
     "output_type": "display_data"
    }
   ],
   "source": [
    "df[\"CIP Labels\"]"
   ]
  },
  {
   "cell_type": "code",
   "execution_count": 33,
   "metadata": {},
   "outputs": [],
   "source": [
    "modified_labels = []\n",
    "\n",
    "for item in df[\"CIP Labels\"]:\n",
    "    if type(item) is float and np.isnan(item):\n",
    "        modified_labels.append(\"\")\n",
    "    else:\n",
    "        split_labels = item.split(\" \")\n",
    "        filtered_labels = [item for item in split_labels if item[-1] in stereochemical_tags]\n",
    "        modified_labels.append(\" \".join(filtered_labels))"
   ]
  },
  {
   "cell_type": "code",
   "execution_count": 34,
   "metadata": {},
   "outputs": [],
   "source": [
    "df[\"modified_labels\"]=modified_labels"
   ]
  },
  {
   "cell_type": "code",
   "execution_count": 38,
   "metadata": {},
   "outputs": [],
   "source": [
    "new_results=df[[\"COMPOUND\",\"SMILES\",\"CIP Labels\",\"modified_labels\",\"RDKit\",\"Balloon\"]]"
   ]
  },
  {
   "cell_type": "code",
   "execution_count": 39,
   "metadata": {},
   "outputs": [
    {
     "name": "stderr",
     "output_type": "stream",
     "text": [
      "/home/jerry/anaconda3/envs/torch/lib/python3.7/site-packages/ipykernel_launcher.py:1: SettingWithCopyWarning: \n",
      "A value is trying to be set on a copy of a slice from a DataFrame.\n",
      "Try using .loc[row_indexer,col_indexer] = value instead\n",
      "\n",
      "See the caveats in the documentation: https://pandas.pydata.org/pandas-docs/stable/user_guide/indexing.html#returning-a-view-versus-a-copy\n",
      "  \"\"\"Entry point for launching an IPython kernel.\n",
      "/home/jerry/anaconda3/envs/torch/lib/python3.7/site-packages/ipykernel_launcher.py:2: SettingWithCopyWarning: \n",
      "A value is trying to be set on a copy of a slice from a DataFrame.\n",
      "Try using .loc[row_indexer,col_indexer] = value instead\n",
      "\n",
      "See the caveats in the documentation: https://pandas.pydata.org/pandas-docs/stable/user_guide/indexing.html#returning-a-view-versus-a-copy\n",
      "  \n",
      "/home/jerry/anaconda3/envs/torch/lib/python3.7/site-packages/ipykernel_launcher.py:3: SettingWithCopyWarning: \n",
      "A value is trying to be set on a copy of a slice from a DataFrame.\n",
      "Try using .loc[row_indexer,col_indexer] = value instead\n",
      "\n",
      "See the caveats in the documentation: https://pandas.pydata.org/pandas-docs/stable/user_guide/indexing.html#returning-a-view-versus-a-copy\n",
      "  This is separate from the ipykernel package so we can avoid doing imports until\n"
     ]
    }
   ],
   "source": [
    "new_results[\"rdkit_correct\"]=new_results[\"modified_labels\"]==new_results[\"RDKit\"]\n",
    "new_results[\"balloon_correct\"]=new_results[\"modified_labels\"]==new_results[\"Balloon\"]\n",
    "new_results[\"either_correct\"]=new_results[\"rdkit_correct\"]|new_results[\"balloon_correct\"]"
   ]
  },
  {
   "cell_type": "code",
   "execution_count": 41,
   "metadata": {},
   "outputs": [],
   "source": [
    "new_results.to_csv(\"new_results.csv\",index=False)"
   ]
  },
  {
   "cell_type": "code",
   "execution_count": 43,
   "metadata": {},
   "outputs": [],
   "source": [
    "new_results[~new_results.either_correct].to_csv(\"incorrect.csv\",index=False)"
   ]
  },
  {
   "attachments": {},
   "cell_type": "markdown",
   "metadata": {},
   "source": [
    "# explore"
   ]
  },
  {
   "cell_type": "code",
   "execution_count": 48,
   "metadata": {},
   "outputs": [
    {
     "name": "stdout",
     "output_type": "stream",
     "text": [
      "VS032 O[C@H](/C=N\\C)C1=NC=CC=C1\n"
     ]
    },
    {
     "data": {
      "image/png": "[encoded data removed]",
      "text/plain": [
       "<PIL.PngImagePlugin.PngImageFile image mode=RGB size=300x300 at 0x7EFBE4011710>"
      ]
     },
     "execution_count": 48,
     "metadata": {},
     "output_type": "execute_result"
    }
   ],
   "source": [
    "idx=31\n",
    "smi=df.iloc[idx].SMILES\n",
    "cmp=df.iloc[idx].COMPOUND\n",
    "mol=Chem.MolFromSmiles(smi)\n",
    "for atom in mol.GetAtoms():\n",
    "    # For each atom, set the property \"atomNote\" to a index+1 of the atom\n",
    "    atom.SetProp(\"atomNote\", str(atom.GetIdx()+1))\n",
    "print(cmp,smi)\n",
    "Draw.MolToImage(mol)"
   ]
  },
  {
   "cell_type": "code",
   "execution_count": 55,
   "metadata": {},
   "outputs": [
    {
     "name": "stdout",
     "output_type": "stream",
     "text": [
      "VS120 O=C([C@@H]1CCCCCCCCCCCCCCCCCCCCCC[C@@H]2CCCCCCCCCCCCCCCCCC=[C@]=C1C2)O\n"
     ]
    },
    {
     "data": {
      "image/png": "[encoded data removed]",
      "text/plain": [
       "<PIL.PngImagePlugin.PngImageFile image mode=RGB size=300x300 at 0x7EFBE404C290>"
      ]
     },
     "execution_count": 55,
     "metadata": {},
     "output_type": "execute_result"
    }
   ],
   "source": [
    "idx=119\n",
    "smi=df.iloc[idx].SMILES\n",
    "cmp=df.iloc[idx].COMPOUND\n",
    "mol=Chem.MolFromSmiles(smi)\n",
    "for atom in mol.GetAtoms():\n",
    "    # For each atom, set the property \"atomNote\" to a index+1 of the atom\n",
    "    atom.SetProp(\"atomNote\", str(atom.GetIdx()+1))\n",
    "print(cmp,smi)\n",
    "Draw.MolToImage(mol)"
   ]
  },
  {
   "cell_type": "code",
   "execution_count": 9,
   "metadata": {},
   "outputs": [],
   "source": [
    "ring_info=mol.GetRingInfo()"
   ]
  },
  {
   "cell_type": "code",
   "execution_count": 12,
   "metadata": {},
   "outputs": [
    {
     "data": {
      "text/plain": [
       "0"
      ]
     },
     "execution_count": 12,
     "metadata": {},
     "output_type": "execute_result"
    }
   ],
   "source": [
    "ring_info.MinAtomRingSize(12)"
   ]
  }
 ],
 "metadata": {
  "kernelspec": {
   "display_name": "torch",
   "language": "python",
   "name": "python3"
  },
  "language_info": {
   "codemirror_mode": {
    "name": "ipython",
    "version": 3
   },
   "file_extension": ".py",
   "mimetype": "text/x-python",
   "name": "python",
   "nbconvert_exporter": "python",
   "pygments_lexer": "ipython3",
   "version": "3.7.9"
  },
  "orig_nbformat": 4,
  "vscode": {
   "interpreter": {
    "hash": "32a191c378b903fda7a216eb7a031a56160c3958e4c38acfb4631dd4f0c4e0af"
   }
  }
 },
 "nbformat": 4,
 "nbformat_minor": 2
}
